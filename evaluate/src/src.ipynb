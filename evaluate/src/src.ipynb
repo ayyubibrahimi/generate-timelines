{
 "cells": [
  {
   "cell_type": "code",
   "execution_count": 1,
   "metadata": {},
   "outputs": [
    {
     "name": "stderr",
     "output_type": "stream",
     "text": [
      "/opt/homebrew/lib/python3.11/site-packages/transformers/utils/generic.py:441: UserWarning: torch.utils._pytree._register_pytree_node is deprecated. Please use torch.utils._pytree.register_pytree_node instead.\n",
      "  _torch_pytree._register_pytree_node(\n",
      "[nltk_data] Downloading package punkt to /Users/ayyub/nltk_data...\n",
      "[nltk_data]   Package punkt is already up-to-date!\n",
      "/opt/homebrew/lib/python3.11/site-packages/transformers/utils/generic.py:309: UserWarning: torch.utils._pytree._register_pytree_node is deprecated. Please use torch.utils._pytree.register_pytree_node instead.\n",
      "  _torch_pytree._register_pytree_node(\n",
      "Some weights of RobertaModel were not initialized from the model checkpoint at roberta-large and are newly initialized: ['roberta.pooler.dense.weight', 'roberta.pooler.dense.bias']\n",
      "You should probably TRAIN this model on a down-stream task to be able to use it for predictions and inference.\n"
     ]
    },
    {
     "name": "stdout",
     "output_type": "stream",
     "text": [
      "calculating scores...\n",
      "computing bert embedding.\n"
     ]
    },
    {
     "data": {
      "application/vnd.jupyter.widget-view+json": {
       "model_id": "3fcfccc9daca45b58dd610e8beda986e",
       "version_major": 2,
       "version_minor": 0
      },
      "text/plain": [
       "  0%|          | 0/1 [00:00<?, ?it/s]"
      ]
     },
     "metadata": {},
     "output_type": "display_data"
    },
    {
     "name": "stdout",
     "output_type": "stream",
     "text": [
      "computing greedy matching.\n"
     ]
    },
    {
     "data": {
      "application/vnd.jupyter.widget-view+json": {
       "model_id": "95e00508beaa4840ae47f3335ab35851",
       "version_major": 2,
       "version_minor": 0
      },
      "text/plain": [
       "  0%|          | 0/1 [00:00<?, ?it/s]"
      ]
     },
     "metadata": {},
     "output_type": "display_data"
    },
    {
     "name": "stdout",
     "output_type": "stream",
     "text": [
      "done in 1.34 seconds, 0.75 sentences/sec\n"
     ]
    },
    {
     "name": "stderr",
     "output_type": "stream",
     "text": [
      "Some weights of RobertaModel were not initialized from the model checkpoint at roberta-large and are newly initialized: ['roberta.pooler.dense.weight', 'roberta.pooler.dense.bias']\n",
      "You should probably TRAIN this model on a down-stream task to be able to use it for predictions and inference.\n"
     ]
    },
    {
     "name": "stdout",
     "output_type": "stream",
     "text": [
      "calculating scores...\n",
      "computing bert embedding.\n"
     ]
    },
    {
     "data": {
      "application/vnd.jupyter.widget-view+json": {
       "model_id": "be94fcd94e3441618d2e1a238a5c630f",
       "version_major": 2,
       "version_minor": 0
      },
      "text/plain": [
       "  0%|          | 0/1 [00:00<?, ?it/s]"
      ]
     },
     "metadata": {},
     "output_type": "display_data"
    },
    {
     "name": "stdout",
     "output_type": "stream",
     "text": [
      "computing greedy matching.\n"
     ]
    },
    {
     "data": {
      "application/vnd.jupyter.widget-view+json": {
       "model_id": "f52e7ea034974a7fbfad3249225562a8",
       "version_major": 2,
       "version_minor": 0
      },
      "text/plain": [
       "  0%|          | 0/1 [00:00<?, ?it/s]"
      ]
     },
     "metadata": {},
     "output_type": "display_data"
    },
    {
     "name": "stdout",
     "output_type": "stream",
     "text": [
      "done in 0.65 seconds, 1.53 sentences/sec\n"
     ]
    },
    {
     "name": "stderr",
     "output_type": "stream",
     "text": [
      "Some weights of RobertaModel were not initialized from the model checkpoint at roberta-large and are newly initialized: ['roberta.pooler.dense.weight', 'roberta.pooler.dense.bias']\n",
      "You should probably TRAIN this model on a down-stream task to be able to use it for predictions and inference.\n"
     ]
    },
    {
     "name": "stdout",
     "output_type": "stream",
     "text": [
      "calculating scores...\n",
      "computing bert embedding.\n"
     ]
    },
    {
     "data": {
      "application/vnd.jupyter.widget-view+json": {
       "model_id": "fa2b1712ed974a25aeef449055d42fb2",
       "version_major": 2,
       "version_minor": 0
      },
      "text/plain": [
       "  0%|          | 0/1 [00:00<?, ?it/s]"
      ]
     },
     "metadata": {},
     "output_type": "display_data"
    },
    {
     "name": "stdout",
     "output_type": "stream",
     "text": [
      "computing greedy matching.\n"
     ]
    },
    {
     "data": {
      "application/vnd.jupyter.widget-view+json": {
       "model_id": "d89a8f5fecad4253a77f59d49f9c59b6",
       "version_major": 2,
       "version_minor": 0
      },
      "text/plain": [
       "  0%|          | 0/1 [00:00<?, ?it/s]"
      ]
     },
     "metadata": {},
     "output_type": "display_data"
    },
    {
     "name": "stdout",
     "output_type": "stream",
     "text": [
      "done in 0.57 seconds, 1.76 sentences/sec\n"
     ]
    },
    {
     "name": "stderr",
     "output_type": "stream",
     "text": [
      "Some weights of RobertaModel were not initialized from the model checkpoint at roberta-large and are newly initialized: ['roberta.pooler.dense.weight', 'roberta.pooler.dense.bias']\n",
      "You should probably TRAIN this model on a down-stream task to be able to use it for predictions and inference.\n"
     ]
    },
    {
     "name": "stdout",
     "output_type": "stream",
     "text": [
      "calculating scores...\n",
      "computing bert embedding.\n"
     ]
    },
    {
     "data": {
      "application/vnd.jupyter.widget-view+json": {
       "model_id": "828c0979530945728a405b37221cf05a",
       "version_major": 2,
       "version_minor": 0
      },
      "text/plain": [
       "  0%|          | 0/1 [00:00<?, ?it/s]"
      ]
     },
     "metadata": {},
     "output_type": "display_data"
    },
    {
     "name": "stdout",
     "output_type": "stream",
     "text": [
      "computing greedy matching.\n"
     ]
    },
    {
     "data": {
      "application/vnd.jupyter.widget-view+json": {
       "model_id": "c8dce99ed6e5424c93558848ec80da02",
       "version_major": 2,
       "version_minor": 0
      },
      "text/plain": [
       "  0%|          | 0/1 [00:00<?, ?it/s]"
      ]
     },
     "metadata": {},
     "output_type": "display_data"
    },
    {
     "name": "stdout",
     "output_type": "stream",
     "text": [
      "done in 0.73 seconds, 1.37 sentences/sec\n"
     ]
    },
    {
     "name": "stderr",
     "output_type": "stream",
     "text": [
      "Some weights of RobertaModel were not initialized from the model checkpoint at roberta-large and are newly initialized: ['roberta.pooler.dense.weight', 'roberta.pooler.dense.bias']\n",
      "You should probably TRAIN this model on a down-stream task to be able to use it for predictions and inference.\n"
     ]
    },
    {
     "name": "stdout",
     "output_type": "stream",
     "text": [
      "calculating scores...\n",
      "computing bert embedding.\n"
     ]
    },
    {
     "data": {
      "application/vnd.jupyter.widget-view+json": {
       "model_id": "0207730df24d4aca99df07f8a3e3c0d8",
       "version_major": 2,
       "version_minor": 0
      },
      "text/plain": [
       "  0%|          | 0/1 [00:00<?, ?it/s]"
      ]
     },
     "metadata": {},
     "output_type": "display_data"
    },
    {
     "name": "stdout",
     "output_type": "stream",
     "text": [
      "computing greedy matching.\n"
     ]
    },
    {
     "data": {
      "application/vnd.jupyter.widget-view+json": {
       "model_id": "441cec501b3c48bbb3b80b92b1c5f0aa",
       "version_major": 2,
       "version_minor": 0
      },
      "text/plain": [
       "  0%|          | 0/1 [00:00<?, ?it/s]"
      ]
     },
     "metadata": {},
     "output_type": "display_data"
    },
    {
     "name": "stdout",
     "output_type": "stream",
     "text": [
      "done in 0.77 seconds, 1.30 sentences/sec\n"
     ]
    },
    {
     "name": "stderr",
     "output_type": "stream",
     "text": [
      "Some weights of RobertaModel were not initialized from the model checkpoint at roberta-large and are newly initialized: ['roberta.pooler.dense.weight', 'roberta.pooler.dense.bias']\n",
      "You should probably TRAIN this model on a down-stream task to be able to use it for predictions and inference.\n"
     ]
    },
    {
     "name": "stdout",
     "output_type": "stream",
     "text": [
      "calculating scores...\n",
      "computing bert embedding.\n"
     ]
    },
    {
     "data": {
      "application/vnd.jupyter.widget-view+json": {
       "model_id": "9ed6ba9b5d464c42a1d151cb33892a46",
       "version_major": 2,
       "version_minor": 0
      },
      "text/plain": [
       "  0%|          | 0/1 [00:00<?, ?it/s]"
      ]
     },
     "metadata": {},
     "output_type": "display_data"
    },
    {
     "name": "stdout",
     "output_type": "stream",
     "text": [
      "computing greedy matching.\n"
     ]
    },
    {
     "data": {
      "application/vnd.jupyter.widget-view+json": {
       "model_id": "d896b25c2cc14579bcc91cad4b3af730",
       "version_major": 2,
       "version_minor": 0
      },
      "text/plain": [
       "  0%|          | 0/1 [00:00<?, ?it/s]"
      ]
     },
     "metadata": {},
     "output_type": "display_data"
    },
    {
     "name": "stdout",
     "output_type": "stream",
     "text": [
      "done in 0.66 seconds, 1.52 sentences/sec\n"
     ]
    },
    {
     "name": "stderr",
     "output_type": "stream",
     "text": [
      "Some weights of RobertaModel were not initialized from the model checkpoint at roberta-large and are newly initialized: ['roberta.pooler.dense.weight', 'roberta.pooler.dense.bias']\n",
      "You should probably TRAIN this model on a down-stream task to be able to use it for predictions and inference.\n"
     ]
    },
    {
     "name": "stdout",
     "output_type": "stream",
     "text": [
      "calculating scores...\n",
      "computing bert embedding.\n"
     ]
    },
    {
     "data": {
      "application/vnd.jupyter.widget-view+json": {
       "model_id": "6d910bf465bb46ba8f515652d1ce1dba",
       "version_major": 2,
       "version_minor": 0
      },
      "text/plain": [
       "  0%|          | 0/1 [00:00<?, ?it/s]"
      ]
     },
     "metadata": {},
     "output_type": "display_data"
    },
    {
     "name": "stdout",
     "output_type": "stream",
     "text": [
      "computing greedy matching.\n"
     ]
    },
    {
     "data": {
      "application/vnd.jupyter.widget-view+json": {
       "model_id": "0d6b801798bc4b5e9641f502d2c6922b",
       "version_major": 2,
       "version_minor": 0
      },
      "text/plain": [
       "  0%|          | 0/1 [00:00<?, ?it/s]"
      ]
     },
     "metadata": {},
     "output_type": "display_data"
    },
    {
     "name": "stdout",
     "output_type": "stream",
     "text": [
      "done in 0.69 seconds, 1.44 sentences/sec\n"
     ]
    },
    {
     "name": "stderr",
     "output_type": "stream",
     "text": [
      "Some weights of RobertaModel were not initialized from the model checkpoint at roberta-large and are newly initialized: ['roberta.pooler.dense.weight', 'roberta.pooler.dense.bias']\n",
      "You should probably TRAIN this model on a down-stream task to be able to use it for predictions and inference.\n"
     ]
    },
    {
     "name": "stdout",
     "output_type": "stream",
     "text": [
      "calculating scores...\n",
      "computing bert embedding.\n"
     ]
    },
    {
     "data": {
      "application/vnd.jupyter.widget-view+json": {
       "model_id": "51786d07d3d145a8ad406aaeb8b29f02",
       "version_major": 2,
       "version_minor": 0
      },
      "text/plain": [
       "  0%|          | 0/1 [00:00<?, ?it/s]"
      ]
     },
     "metadata": {},
     "output_type": "display_data"
    },
    {
     "name": "stdout",
     "output_type": "stream",
     "text": [
      "computing greedy matching.\n"
     ]
    },
    {
     "data": {
      "application/vnd.jupyter.widget-view+json": {
       "model_id": "d7d107a0fa4c4acbbf0c7d96bc058706",
       "version_major": 2,
       "version_minor": 0
      },
      "text/plain": [
       "  0%|          | 0/1 [00:00<?, ?it/s]"
      ]
     },
     "metadata": {},
     "output_type": "display_data"
    },
    {
     "name": "stdout",
     "output_type": "stream",
     "text": [
      "done in 0.74 seconds, 1.35 sentences/sec\n"
     ]
    },
    {
     "name": "stderr",
     "output_type": "stream",
     "text": [
      "Some weights of RobertaModel were not initialized from the model checkpoint at roberta-large and are newly initialized: ['roberta.pooler.dense.weight', 'roberta.pooler.dense.bias']\n",
      "You should probably TRAIN this model on a down-stream task to be able to use it for predictions and inference.\n"
     ]
    },
    {
     "name": "stdout",
     "output_type": "stream",
     "text": [
      "calculating scores...\n",
      "computing bert embedding.\n"
     ]
    },
    {
     "data": {
      "application/vnd.jupyter.widget-view+json": {
       "model_id": "abb8a53c811a4a7f8cdb6268cca9f445",
       "version_major": 2,
       "version_minor": 0
      },
      "text/plain": [
       "  0%|          | 0/1 [00:00<?, ?it/s]"
      ]
     },
     "metadata": {},
     "output_type": "display_data"
    },
    {
     "name": "stdout",
     "output_type": "stream",
     "text": [
      "computing greedy matching.\n"
     ]
    },
    {
     "data": {
      "application/vnd.jupyter.widget-view+json": {
       "model_id": "d85b6a5ab708452db9260aa75f452081",
       "version_major": 2,
       "version_minor": 0
      },
      "text/plain": [
       "  0%|          | 0/1 [00:00<?, ?it/s]"
      ]
     },
     "metadata": {},
     "output_type": "display_data"
    },
    {
     "name": "stdout",
     "output_type": "stream",
     "text": [
      "done in 0.60 seconds, 1.66 sentences/sec\n"
     ]
    },
    {
     "name": "stderr",
     "output_type": "stream",
     "text": [
      "Some weights of RobertaModel were not initialized from the model checkpoint at roberta-large and are newly initialized: ['roberta.pooler.dense.weight', 'roberta.pooler.dense.bias']\n",
      "You should probably TRAIN this model on a down-stream task to be able to use it for predictions and inference.\n"
     ]
    },
    {
     "name": "stdout",
     "output_type": "stream",
     "text": [
      "calculating scores...\n",
      "computing bert embedding.\n"
     ]
    },
    {
     "data": {
      "application/vnd.jupyter.widget-view+json": {
       "model_id": "d363d36b9f7647a79354eece65acc005",
       "version_major": 2,
       "version_minor": 0
      },
      "text/plain": [
       "  0%|          | 0/1 [00:00<?, ?it/s]"
      ]
     },
     "metadata": {},
     "output_type": "display_data"
    },
    {
     "name": "stdout",
     "output_type": "stream",
     "text": [
      "computing greedy matching.\n"
     ]
    },
    {
     "data": {
      "application/vnd.jupyter.widget-view+json": {
       "model_id": "03fc56b553e140a097be4614b9d06906",
       "version_major": 2,
       "version_minor": 0
      },
      "text/plain": [
       "  0%|          | 0/1 [00:00<?, ?it/s]"
      ]
     },
     "metadata": {},
     "output_type": "display_data"
    },
    {
     "name": "stdout",
     "output_type": "stream",
     "text": [
      "done in 0.74 seconds, 1.35 sentences/sec\n"
     ]
    },
    {
     "name": "stderr",
     "output_type": "stream",
     "text": [
      "Some weights of RobertaModel were not initialized from the model checkpoint at roberta-large and are newly initialized: ['roberta.pooler.dense.weight', 'roberta.pooler.dense.bias']\n",
      "You should probably TRAIN this model on a down-stream task to be able to use it for predictions and inference.\n"
     ]
    },
    {
     "name": "stdout",
     "output_type": "stream",
     "text": [
      "calculating scores...\n",
      "computing bert embedding.\n"
     ]
    },
    {
     "data": {
      "application/vnd.jupyter.widget-view+json": {
       "model_id": "8eaf67c455f54f38b2781ca9eb213788",
       "version_major": 2,
       "version_minor": 0
      },
      "text/plain": [
       "  0%|          | 0/1 [00:00<?, ?it/s]"
      ]
     },
     "metadata": {},
     "output_type": "display_data"
    },
    {
     "name": "stdout",
     "output_type": "stream",
     "text": [
      "computing greedy matching.\n"
     ]
    },
    {
     "data": {
      "application/vnd.jupyter.widget-view+json": {
       "model_id": "dda568cf07d640768041a13acebbd07b",
       "version_major": 2,
       "version_minor": 0
      },
      "text/plain": [
       "  0%|          | 0/1 [00:00<?, ?it/s]"
      ]
     },
     "metadata": {},
     "output_type": "display_data"
    },
    {
     "name": "stdout",
     "output_type": "stream",
     "text": [
      "done in 0.73 seconds, 1.36 sentences/sec\n"
     ]
    },
    {
     "name": "stderr",
     "output_type": "stream",
     "text": [
      "Some weights of RobertaModel were not initialized from the model checkpoint at roberta-large and are newly initialized: ['roberta.pooler.dense.weight', 'roberta.pooler.dense.bias']\n",
      "You should probably TRAIN this model on a down-stream task to be able to use it for predictions and inference.\n"
     ]
    },
    {
     "name": "stdout",
     "output_type": "stream",
     "text": [
      "calculating scores...\n",
      "computing bert embedding.\n"
     ]
    },
    {
     "data": {
      "application/vnd.jupyter.widget-view+json": {
       "model_id": "5c334435dcfe4e609ab7a4fce3ca95ce",
       "version_major": 2,
       "version_minor": 0
      },
      "text/plain": [
       "  0%|          | 0/1 [00:00<?, ?it/s]"
      ]
     },
     "metadata": {},
     "output_type": "display_data"
    },
    {
     "name": "stdout",
     "output_type": "stream",
     "text": [
      "computing greedy matching.\n"
     ]
    },
    {
     "data": {
      "application/vnd.jupyter.widget-view+json": {
       "model_id": "e2dd70b3060a47bda36e6fc460fba3e9",
       "version_major": 2,
       "version_minor": 0
      },
      "text/plain": [
       "  0%|          | 0/1 [00:00<?, ?it/s]"
      ]
     },
     "metadata": {},
     "output_type": "display_data"
    },
    {
     "name": "stdout",
     "output_type": "stream",
     "text": [
      "done in 0.64 seconds, 1.57 sentences/sec\n"
     ]
    },
    {
     "name": "stderr",
     "output_type": "stream",
     "text": [
      "Some weights of RobertaModel were not initialized from the model checkpoint at roberta-large and are newly initialized: ['roberta.pooler.dense.weight', 'roberta.pooler.dense.bias']\n",
      "You should probably TRAIN this model on a down-stream task to be able to use it for predictions and inference.\n"
     ]
    },
    {
     "name": "stdout",
     "output_type": "stream",
     "text": [
      "calculating scores...\n",
      "computing bert embedding.\n"
     ]
    },
    {
     "data": {
      "application/vnd.jupyter.widget-view+json": {
       "model_id": "8bb494edef3b443181c6e09409141997",
       "version_major": 2,
       "version_minor": 0
      },
      "text/plain": [
       "  0%|          | 0/1 [00:00<?, ?it/s]"
      ]
     },
     "metadata": {},
     "output_type": "display_data"
    },
    {
     "name": "stdout",
     "output_type": "stream",
     "text": [
      "computing greedy matching.\n"
     ]
    },
    {
     "data": {
      "application/vnd.jupyter.widget-view+json": {
       "model_id": "acb9545d3adc41a983156aac2cd520aa",
       "version_major": 2,
       "version_minor": 0
      },
      "text/plain": [
       "  0%|          | 0/1 [00:00<?, ?it/s]"
      ]
     },
     "metadata": {},
     "output_type": "display_data"
    },
    {
     "name": "stdout",
     "output_type": "stream",
     "text": [
      "done in 0.77 seconds, 1.30 sentences/sec\n"
     ]
    },
    {
     "name": "stderr",
     "output_type": "stream",
     "text": [
      "Some weights of RobertaModel were not initialized from the model checkpoint at roberta-large and are newly initialized: ['roberta.pooler.dense.weight', 'roberta.pooler.dense.bias']\n",
      "You should probably TRAIN this model on a down-stream task to be able to use it for predictions and inference.\n"
     ]
    },
    {
     "name": "stdout",
     "output_type": "stream",
     "text": [
      "calculating scores...\n",
      "computing bert embedding.\n"
     ]
    },
    {
     "data": {
      "application/vnd.jupyter.widget-view+json": {
       "model_id": "83a2d19dab074d6abd7b14834e698f21",
       "version_major": 2,
       "version_minor": 0
      },
      "text/plain": [
       "  0%|          | 0/1 [00:00<?, ?it/s]"
      ]
     },
     "metadata": {},
     "output_type": "display_data"
    },
    {
     "name": "stdout",
     "output_type": "stream",
     "text": [
      "computing greedy matching.\n"
     ]
    },
    {
     "data": {
      "application/vnd.jupyter.widget-view+json": {
       "model_id": "488cf9c278c64aa4991c09f2e4069508",
       "version_major": 2,
       "version_minor": 0
      },
      "text/plain": [
       "  0%|          | 0/1 [00:00<?, ?it/s]"
      ]
     },
     "metadata": {},
     "output_type": "display_data"
    },
    {
     "name": "stdout",
     "output_type": "stream",
     "text": [
      "done in 0.73 seconds, 1.37 sentences/sec\n"
     ]
    },
    {
     "name": "stderr",
     "output_type": "stream",
     "text": [
      "Some weights of RobertaModel were not initialized from the model checkpoint at roberta-large and are newly initialized: ['roberta.pooler.dense.weight', 'roberta.pooler.dense.bias']\n",
      "You should probably TRAIN this model on a down-stream task to be able to use it for predictions and inference.\n"
     ]
    },
    {
     "name": "stdout",
     "output_type": "stream",
     "text": [
      "calculating scores...\n",
      "computing bert embedding.\n"
     ]
    },
    {
     "data": {
      "application/vnd.jupyter.widget-view+json": {
       "model_id": "c24111d576fb483eb943db25af49f354",
       "version_major": 2,
       "version_minor": 0
      },
      "text/plain": [
       "  0%|          | 0/1 [00:00<?, ?it/s]"
      ]
     },
     "metadata": {},
     "output_type": "display_data"
    },
    {
     "name": "stdout",
     "output_type": "stream",
     "text": [
      "computing greedy matching.\n"
     ]
    },
    {
     "data": {
      "application/vnd.jupyter.widget-view+json": {
       "model_id": "74417b384bb14b5e86a685e6d8848227",
       "version_major": 2,
       "version_minor": 0
      },
      "text/plain": [
       "  0%|          | 0/1 [00:00<?, ?it/s]"
      ]
     },
     "metadata": {},
     "output_type": "display_data"
    },
    {
     "name": "stdout",
     "output_type": "stream",
     "text": [
      "done in 0.61 seconds, 1.64 sentences/sec\n"
     ]
    },
    {
     "data": {
      "text/html": [
       "<div>\n",
       "<style scoped>\n",
       "    .dataframe tbody tr th:only-of-type {\n",
       "        vertical-align: middle;\n",
       "    }\n",
       "\n",
       "    .dataframe tbody tr th {\n",
       "        vertical-align: top;\n",
       "    }\n",
       "\n",
       "    .dataframe thead th {\n",
       "        text-align: right;\n",
       "    }\n",
       "</style>\n",
       "<table border=\"1\" class=\"dataframe\">\n",
       "  <thead>\n",
       "    <tr style=\"text-align: right;\">\n",
       "      <th></th>\n",
       "      <th>Case</th>\n",
       "      <th>Summary</th>\n",
       "      <th>Reference</th>\n",
       "      <th>BERTScore</th>\n",
       "    </tr>\n",
       "  </thead>\n",
       "  <tbody>\n",
       "    <tr>\n",
       "      <th>0</th>\n",
       "      <td>2011-10-27 Bias Comm124_Derek_Byrne_IAD_2015-0...</td>\n",
       "      <td>The document discusses the disciplinary charge...</td>\n",
       "      <td>1</td>\n",
       "      <td>NaN</td>\n",
       "    </tr>\n",
       "    <tr>\n",
       "      <th>1</th>\n",
       "      <td>2011-10-27 Bias Comm124_Derek_Byrne_IAD_2015-0...</td>\n",
       "      <td>On April 3, 2015, the San Francisco Police Com...</td>\n",
       "      <td>0</td>\n",
       "      <td>0.871588</td>\n",
       "    </tr>\n",
       "    <tr>\n",
       "      <th>2</th>\n",
       "      <td>2011-10-27 Bias Comm124_Derek_Byrne_IAD_2015-0...</td>\n",
       "      <td>Introduction:\\nThis report presents the discip...</td>\n",
       "      <td>0</td>\n",
       "      <td>0.884274</td>\n",
       "    </tr>\n",
       "    <tr>\n",
       "      <th>3</th>\n",
       "      <td>2011-10-27 Bias Comm124_Derek_Byrne_IAD_2015-0...</td>\n",
       "      <td>The Police Commission of the City and County o...</td>\n",
       "      <td>0</td>\n",
       "      <td>0.842083</td>\n",
       "    </tr>\n",
       "    <tr>\n",
       "      <th>4</th>\n",
       "      <td>2017-07-31 Bias Comm118_part_1_Redacted.pdf</td>\n",
       "      <td>On July 31, 2017, Sergeant Sherry Hicks, a swo...</td>\n",
       "      <td>0</td>\n",
       "      <td>0.828100</td>\n",
       "    </tr>\n",
       "    <tr>\n",
       "      <th>5</th>\n",
       "      <td>2017-07-31 Bias Comm118_part_1_Redacted.pdf</td>\n",
       "      <td>The document is a resolution from the San Fran...</td>\n",
       "      <td>1</td>\n",
       "      <td>NaN</td>\n",
       "    </tr>\n",
       "    <tr>\n",
       "      <th>6</th>\n",
       "      <td>2017-07-31 Bias Comm118_part_1_Redacted.pdf</td>\n",
       "      <td>On July 31, 2017, Sergeant Sherry Hicks, Star ...</td>\n",
       "      <td>0</td>\n",
       "      <td>0.845881</td>\n",
       "    </tr>\n",
       "    <tr>\n",
       "      <th>7</th>\n",
       "      <td>2017-07-31 Bias Comm118_part_1_Redacted.pdf</td>\n",
       "      <td>On October 10, 2018, a meeting of the Police C...</td>\n",
       "      <td>0</td>\n",
       "      <td>0.833476</td>\n",
       "    </tr>\n",
       "    <tr>\n",
       "      <th>8</th>\n",
       "      <td>2017-07-31 Bias Comm118_part_2_Redacted.pdf</td>\n",
       "      <td>This document discusses the case of Sergeant S...</td>\n",
       "      <td>1</td>\n",
       "      <td>NaN</td>\n",
       "    </tr>\n",
       "    <tr>\n",
       "      <th>9</th>\n",
       "      <td>2017-07-31 Bias Comm118_part_2_Redacted.pdf</td>\n",
       "      <td>On August 9, 2018, the Police Commission initi...</td>\n",
       "      <td>0</td>\n",
       "      <td>0.843347</td>\n",
       "    </tr>\n",
       "    <tr>\n",
       "      <th>10</th>\n",
       "      <td>2017-07-31 Bias Comm118_part_2_Redacted.pdf</td>\n",
       "      <td>On [DATE], the San Francisco Police Commission...</td>\n",
       "      <td>0</td>\n",
       "      <td>0.842363</td>\n",
       "    </tr>\n",
       "    <tr>\n",
       "      <th>11</th>\n",
       "      <td>2017-07-31 Bias Comm118_part_2_Redacted.pdf</td>\n",
       "      <td>The email sent by Rachael, a key individual, t...</td>\n",
       "      <td>0</td>\n",
       "      <td>0.825950</td>\n",
       "    </tr>\n",
       "    <tr>\n",
       "      <th>12</th>\n",
       "      <td>2017-07-31 Bias Comm118_part_3_Redacted.pdf</td>\n",
       "      <td>Sergeant Sherry Hicks of the San Francisco Pol...</td>\n",
       "      <td>0</td>\n",
       "      <td>0.831408</td>\n",
       "    </tr>\n",
       "    <tr>\n",
       "      <th>13</th>\n",
       "      <td>2017-07-31 Bias Comm118_part_3_Redacted.pdf</td>\n",
       "      <td>This document contains a series of email excha...</td>\n",
       "      <td>1</td>\n",
       "      <td>NaN</td>\n",
       "    </tr>\n",
       "    <tr>\n",
       "      <th>14</th>\n",
       "      <td>2017-07-31 Bias Comm118_part_3_Redacted.pdf</td>\n",
       "      <td>Sergeant Sherry Hicks is currently the subject...</td>\n",
       "      <td>0</td>\n",
       "      <td>0.829494</td>\n",
       "    </tr>\n",
       "    <tr>\n",
       "      <th>15</th>\n",
       "      <td>2017-07-31 Bias Comm118_part_3_Redacted.pdf</td>\n",
       "      <td>Case number 1AD 2017-0283 is the subject of a ...</td>\n",
       "      <td>0</td>\n",
       "      <td>0.833264</td>\n",
       "    </tr>\n",
       "    <tr>\n",
       "      <th>16</th>\n",
       "      <td>2019-07-21 Bias SFPD274.pdf</td>\n",
       "      <td>The document is a report summary from the San ...</td>\n",
       "      <td>1</td>\n",
       "      <td>NaN</td>\n",
       "    </tr>\n",
       "    <tr>\n",
       "      <th>17</th>\n",
       "      <td>2019-07-21 Bias SFPD274.pdf</td>\n",
       "      <td>Incident Overview:\\nOn July 21, 2019, San Fran...</td>\n",
       "      <td>0</td>\n",
       "      <td>0.855205</td>\n",
       "    </tr>\n",
       "    <tr>\n",
       "      <th>18</th>\n",
       "      <td>2019-07-21 Bias SFPD274.pdf</td>\n",
       "      <td>Incident Report\\nComplaint Number: 2020-0104 \\...</td>\n",
       "      <td>0</td>\n",
       "      <td>0.852803</td>\n",
       "    </tr>\n",
       "    <tr>\n",
       "      <th>19</th>\n",
       "      <td>2019-07-21 Bias SFPD274.pdf</td>\n",
       "      <td>In February 2019, the Internal Affairs Adminis...</td>\n",
       "      <td>0</td>\n",
       "      <td>0.844285</td>\n",
       "    </tr>\n",
       "  </tbody>\n",
       "</table>\n",
       "</div>"
      ],
      "text/plain": [
       "                                                 Case  \\\n",
       "0   2011-10-27 Bias Comm124_Derek_Byrne_IAD_2015-0...   \n",
       "1   2011-10-27 Bias Comm124_Derek_Byrne_IAD_2015-0...   \n",
       "2   2011-10-27 Bias Comm124_Derek_Byrne_IAD_2015-0...   \n",
       "3   2011-10-27 Bias Comm124_Derek_Byrne_IAD_2015-0...   \n",
       "4         2017-07-31 Bias Comm118_part_1_Redacted.pdf   \n",
       "5         2017-07-31 Bias Comm118_part_1_Redacted.pdf   \n",
       "6         2017-07-31 Bias Comm118_part_1_Redacted.pdf   \n",
       "7         2017-07-31 Bias Comm118_part_1_Redacted.pdf   \n",
       "8         2017-07-31 Bias Comm118_part_2_Redacted.pdf   \n",
       "9         2017-07-31 Bias Comm118_part_2_Redacted.pdf   \n",
       "10        2017-07-31 Bias Comm118_part_2_Redacted.pdf   \n",
       "11        2017-07-31 Bias Comm118_part_2_Redacted.pdf   \n",
       "12        2017-07-31 Bias Comm118_part_3_Redacted.pdf   \n",
       "13        2017-07-31 Bias Comm118_part_3_Redacted.pdf   \n",
       "14        2017-07-31 Bias Comm118_part_3_Redacted.pdf   \n",
       "15        2017-07-31 Bias Comm118_part_3_Redacted.pdf   \n",
       "16                        2019-07-21 Bias SFPD274.pdf   \n",
       "17                        2019-07-21 Bias SFPD274.pdf   \n",
       "18                        2019-07-21 Bias SFPD274.pdf   \n",
       "19                        2019-07-21 Bias SFPD274.pdf   \n",
       "\n",
       "                                              Summary  Reference  BERTScore  \n",
       "0   The document discusses the disciplinary charge...          1        NaN  \n",
       "1   On April 3, 2015, the San Francisco Police Com...          0   0.871588  \n",
       "2   Introduction:\\nThis report presents the discip...          0   0.884274  \n",
       "3   The Police Commission of the City and County o...          0   0.842083  \n",
       "4   On July 31, 2017, Sergeant Sherry Hicks, a swo...          0   0.828100  \n",
       "5   The document is a resolution from the San Fran...          1        NaN  \n",
       "6   On July 31, 2017, Sergeant Sherry Hicks, Star ...          0   0.845881  \n",
       "7   On October 10, 2018, a meeting of the Police C...          0   0.833476  \n",
       "8   This document discusses the case of Sergeant S...          1        NaN  \n",
       "9   On August 9, 2018, the Police Commission initi...          0   0.843347  \n",
       "10  On [DATE], the San Francisco Police Commission...          0   0.842363  \n",
       "11  The email sent by Rachael, a key individual, t...          0   0.825950  \n",
       "12  Sergeant Sherry Hicks of the San Francisco Pol...          0   0.831408  \n",
       "13  This document contains a series of email excha...          1        NaN  \n",
       "14  Sergeant Sherry Hicks is currently the subject...          0   0.829494  \n",
       "15  Case number 1AD 2017-0283 is the subject of a ...          0   0.833264  \n",
       "16  The document is a report summary from the San ...          1        NaN  \n",
       "17  Incident Overview:\\nOn July 21, 2019, San Fran...          0   0.855205  \n",
       "18  Incident Report\\nComplaint Number: 2020-0104 \\...          0   0.852803  \n",
       "19  In February 2019, the Internal Affairs Adminis...          0   0.844285  "
      ]
     },
     "execution_count": 1,
     "metadata": {},
     "output_type": "execute_result"
    }
   ],
   "source": [
    "import pandas as pd\n",
    "import nltk\n",
    "from nltk.translate.bleu_score import sentence_bleu\n",
    "from rouge_score import rouge_scorer\n",
    "from bert_score import score\n",
    "from sentence_transformers import SentenceTransformer, util\n",
    "\n",
    "# Load the data\n",
    "df = pd.read_csv(\"../data/bias.csv\")\n",
    "df = df[[\"Case\", \"Summary\", \"Reference\"]]\n",
    "\n",
    "# Ensure nltk is installed\n",
    "nltk.download('punkt')\n",
    "\n",
    "# Define functions for BLEU, ROUGE-L, and BERTScore\n",
    "def calculate_bleu(reference, summary):\n",
    "    reference_tokens = nltk.word_tokenize(reference)\n",
    "    summary_tokens = nltk.word_tokenize(summary)\n",
    "    return sentence_bleu([reference_tokens], summary_tokens)\n",
    "\n",
    "def calculate_rouge(reference, summary):\n",
    "    scorer = rouge_scorer.RougeScorer(['rougeL'], use_stemmer=True)\n",
    "    scores = scorer.score(reference, summary)\n",
    "    return scores['rougeL'].fmeasure\n",
    "\n",
    "def calculate_bertscore(reference, summary):\n",
    "    P, R, F1 = score([summary], [reference], lang=\"en\", verbose=True)\n",
    "    return F1.item()\n",
    "\n",
    "# Group by 'Case'\n",
    "grouped = df.groupby('Case')\n",
    "\n",
    "# Initialize lists to hold the scores\n",
    "bleu_scores = []\n",
    "rouge_scores = []\n",
    "bert_scores = []\n",
    "\n",
    "# Process each group\n",
    "for name, group in grouped:\n",
    "    references = group[group['Reference'] == 1.0]['Summary']\n",
    "    if not references.empty:\n",
    "        reference_text = references.iloc[0]\n",
    "        for _, row in group.iterrows():\n",
    "            if row['Reference'] == 0.0:\n",
    "                summary_text = row['Summary']\n",
    "                bleu = calculate_bleu(reference_text, summary_text)\n",
    "                rouge = calculate_rouge(reference_text, summary_text)\n",
    "                bert = calculate_bertscore(reference_text, summary_text)\n",
    "                bleu_scores.append(bleu)\n",
    "                rouge_scores.append(rouge)\n",
    "                bert_scores.append(bert)\n",
    "            else:\n",
    "                bleu_scores.append(None)\n",
    "                rouge_scores.append(None)\n",
    "                bert_scores.append(None)\n",
    "    else:\n",
    "        bleu_scores.extend([None] * len(group))\n",
    "        rouge_scores.extend([None] * len(group))\n",
    "        bert_scores.extend([None] * len(group))\n",
    "\n",
    "# Add scores to the DataFrame\n",
    "df['BLEU'] = bleu_scores\n",
    "df['ROUGE-L'] = rouge_scores\n",
    "df['BERTScore'] = bert_scores\n",
    "\n",
    "df"
   ]
  },
  {
   "cell_type": "code",
   "execution_count": 4,
   "metadata": {},
   "outputs": [
    {
     "data": {
      "text/html": [
       "<div>\n",
       "<style scoped>\n",
       "    .dataframe tbody tr th:only-of-type {\n",
       "        vertical-align: middle;\n",
       "    }\n",
       "\n",
       "    .dataframe tbody tr th {\n",
       "        vertical-align: top;\n",
       "    }\n",
       "\n",
       "    .dataframe thead th {\n",
       "        text-align: right;\n",
       "    }\n",
       "</style>\n",
       "<table border=\"1\" class=\"dataframe\">\n",
       "  <thead>\n",
       "    <tr style=\"text-align: right;\">\n",
       "      <th></th>\n",
       "      <th>Case</th>\n",
       "      <th>Reference</th>\n",
       "      <th>BERTScore</th>\n",
       "    </tr>\n",
       "  </thead>\n",
       "  <tbody>\n",
       "    <tr>\n",
       "      <th>0</th>\n",
       "      <td>2011-10-27 Bias Comm124_Derek_Byrne_IAD_2015-0...</td>\n",
       "      <td>1</td>\n",
       "      <td>NaN</td>\n",
       "    </tr>\n",
       "    <tr>\n",
       "      <th>1</th>\n",
       "      <td>2011-10-27 Bias Comm124_Derek_Byrne_IAD_2015-0...</td>\n",
       "      <td>0</td>\n",
       "      <td>0.871588</td>\n",
       "    </tr>\n",
       "    <tr>\n",
       "      <th>2</th>\n",
       "      <td>2011-10-27 Bias Comm124_Derek_Byrne_IAD_2015-0...</td>\n",
       "      <td>0</td>\n",
       "      <td>0.884274</td>\n",
       "    </tr>\n",
       "    <tr>\n",
       "      <th>3</th>\n",
       "      <td>2011-10-27 Bias Comm124_Derek_Byrne_IAD_2015-0...</td>\n",
       "      <td>0</td>\n",
       "      <td>0.842083</td>\n",
       "    </tr>\n",
       "    <tr>\n",
       "      <th>4</th>\n",
       "      <td>2017-07-31 Bias Comm118_part_1_Redacted.pdf</td>\n",
       "      <td>0</td>\n",
       "      <td>0.828100</td>\n",
       "    </tr>\n",
       "    <tr>\n",
       "      <th>5</th>\n",
       "      <td>2017-07-31 Bias Comm118_part_1_Redacted.pdf</td>\n",
       "      <td>1</td>\n",
       "      <td>NaN</td>\n",
       "    </tr>\n",
       "    <tr>\n",
       "      <th>6</th>\n",
       "      <td>2017-07-31 Bias Comm118_part_1_Redacted.pdf</td>\n",
       "      <td>0</td>\n",
       "      <td>0.845881</td>\n",
       "    </tr>\n",
       "    <tr>\n",
       "      <th>7</th>\n",
       "      <td>2017-07-31 Bias Comm118_part_1_Redacted.pdf</td>\n",
       "      <td>0</td>\n",
       "      <td>0.833476</td>\n",
       "    </tr>\n",
       "    <tr>\n",
       "      <th>8</th>\n",
       "      <td>2017-07-31 Bias Comm118_part_2_Redacted.pdf</td>\n",
       "      <td>1</td>\n",
       "      <td>NaN</td>\n",
       "    </tr>\n",
       "    <tr>\n",
       "      <th>9</th>\n",
       "      <td>2017-07-31 Bias Comm118_part_2_Redacted.pdf</td>\n",
       "      <td>0</td>\n",
       "      <td>0.843347</td>\n",
       "    </tr>\n",
       "    <tr>\n",
       "      <th>10</th>\n",
       "      <td>2017-07-31 Bias Comm118_part_2_Redacted.pdf</td>\n",
       "      <td>0</td>\n",
       "      <td>0.842363</td>\n",
       "    </tr>\n",
       "    <tr>\n",
       "      <th>11</th>\n",
       "      <td>2017-07-31 Bias Comm118_part_2_Redacted.pdf</td>\n",
       "      <td>0</td>\n",
       "      <td>0.825950</td>\n",
       "    </tr>\n",
       "    <tr>\n",
       "      <th>12</th>\n",
       "      <td>2017-07-31 Bias Comm118_part_3_Redacted.pdf</td>\n",
       "      <td>0</td>\n",
       "      <td>0.831408</td>\n",
       "    </tr>\n",
       "    <tr>\n",
       "      <th>13</th>\n",
       "      <td>2017-07-31 Bias Comm118_part_3_Redacted.pdf</td>\n",
       "      <td>1</td>\n",
       "      <td>NaN</td>\n",
       "    </tr>\n",
       "    <tr>\n",
       "      <th>14</th>\n",
       "      <td>2017-07-31 Bias Comm118_part_3_Redacted.pdf</td>\n",
       "      <td>0</td>\n",
       "      <td>0.829494</td>\n",
       "    </tr>\n",
       "    <tr>\n",
       "      <th>15</th>\n",
       "      <td>2017-07-31 Bias Comm118_part_3_Redacted.pdf</td>\n",
       "      <td>0</td>\n",
       "      <td>0.833264</td>\n",
       "    </tr>\n",
       "    <tr>\n",
       "      <th>16</th>\n",
       "      <td>2019-07-21 Bias SFPD274.pdf</td>\n",
       "      <td>1</td>\n",
       "      <td>NaN</td>\n",
       "    </tr>\n",
       "    <tr>\n",
       "      <th>17</th>\n",
       "      <td>2019-07-21 Bias SFPD274.pdf</td>\n",
       "      <td>0</td>\n",
       "      <td>0.855205</td>\n",
       "    </tr>\n",
       "    <tr>\n",
       "      <th>18</th>\n",
       "      <td>2019-07-21 Bias SFPD274.pdf</td>\n",
       "      <td>0</td>\n",
       "      <td>0.852803</td>\n",
       "    </tr>\n",
       "    <tr>\n",
       "      <th>19</th>\n",
       "      <td>2019-07-21 Bias SFPD274.pdf</td>\n",
       "      <td>0</td>\n",
       "      <td>0.844285</td>\n",
       "    </tr>\n",
       "  </tbody>\n",
       "</table>\n",
       "</div>"
      ],
      "text/plain": [
       "                                                 Case  Reference  BERTScore\n",
       "0   2011-10-27 Bias Comm124_Derek_Byrne_IAD_2015-0...          1        NaN\n",
       "1   2011-10-27 Bias Comm124_Derek_Byrne_IAD_2015-0...          0   0.871588\n",
       "2   2011-10-27 Bias Comm124_Derek_Byrne_IAD_2015-0...          0   0.884274\n",
       "3   2011-10-27 Bias Comm124_Derek_Byrne_IAD_2015-0...          0   0.842083\n",
       "4         2017-07-31 Bias Comm118_part_1_Redacted.pdf          0   0.828100\n",
       "5         2017-07-31 Bias Comm118_part_1_Redacted.pdf          1        NaN\n",
       "6         2017-07-31 Bias Comm118_part_1_Redacted.pdf          0   0.845881\n",
       "7         2017-07-31 Bias Comm118_part_1_Redacted.pdf          0   0.833476\n",
       "8         2017-07-31 Bias Comm118_part_2_Redacted.pdf          1        NaN\n",
       "9         2017-07-31 Bias Comm118_part_2_Redacted.pdf          0   0.843347\n",
       "10        2017-07-31 Bias Comm118_part_2_Redacted.pdf          0   0.842363\n",
       "11        2017-07-31 Bias Comm118_part_2_Redacted.pdf          0   0.825950\n",
       "12        2017-07-31 Bias Comm118_part_3_Redacted.pdf          0   0.831408\n",
       "13        2017-07-31 Bias Comm118_part_3_Redacted.pdf          1        NaN\n",
       "14        2017-07-31 Bias Comm118_part_3_Redacted.pdf          0   0.829494\n",
       "15        2017-07-31 Bias Comm118_part_3_Redacted.pdf          0   0.833264\n",
       "16                        2019-07-21 Bias SFPD274.pdf          1        NaN\n",
       "17                        2019-07-21 Bias SFPD274.pdf          0   0.855205\n",
       "18                        2019-07-21 Bias SFPD274.pdf          0   0.852803\n",
       "19                        2019-07-21 Bias SFPD274.pdf          0   0.844285"
      ]
     },
     "execution_count": 4,
     "metadata": {},
     "output_type": "execute_result"
    }
   ],
   "source": [
    "df = df[[\"Case\", \"Reference\", \"BERTScore\"]]\n",
    "\n",
    "df"
   ]
  }
 ],
 "metadata": {
  "kernelspec": {
   "display_name": "Python 3",
   "language": "python",
   "name": "python3"
  },
  "language_info": {
   "codemirror_mode": {
    "name": "ipython",
    "version": 3
   },
   "file_extension": ".py",
   "mimetype": "text/x-python",
   "name": "python",
   "nbconvert_exporter": "python",
   "pygments_lexer": "ipython3",
   "version": "3.11.7"
  }
 },
 "nbformat": 4,
 "nbformat_minor": 2
}
